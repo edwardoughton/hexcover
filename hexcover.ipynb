{
 "cells": [
  {
   "cell_type": "code",
   "execution_count": 18,
   "metadata": {},
   "outputs": [],
   "source": [
    "from shapely.geometry import Point, GeometryCollection\n",
    "from hexcover.util import hexagon_coverage"
   ]
  },
  {
   "cell_type": "code",
   "execution_count": 23,
   "metadata": {},
   "outputs": [],
   "source": [
    "# central polygon\n",
    "c = Point(0.0, 0.0)\n",
    "coverage = hexagon_coverage(c, 10)\n",
    "coverage.append(c)"
   ]
  },
  {
   "cell_type": "code",
   "execution_count": 24,
   "metadata": {},
   "outputs": [
    {
     "data": {
      "image/svg+xml": [
       "<svg xmlns=\"http://www.w3.org/2000/svg\" xmlns:xlink=\"http://www.w3.org/1999/xlink\" width=\"100.0\" height=\"100.0\" viewBox=\"-27.078460969082652 -28.05922308261581 54.156921938165304 56.11844616523162\" preserveAspectRatio=\"xMinYMin meet\"><g transform=\"matrix(1,0,0,-1,0,3.552713678800501e-15)\"><g><path fill-rule=\"evenodd\" fill=\"#66cc99\" stroke=\"#555555\" stroke-width=\"1.1223689233046323\" opacity=\"0.6\" d=\"M 10.0,0.0 L 5.000000000000001,8.660254037844386 L -4.999999999999998,8.660254037844389 L -10.0,1.2246467991473533e-15 L -5.000000000000004,-8.660254037844384 L 5.0,-8.660254037844386 L 10.0,0.0 z\" /><path fill-rule=\"evenodd\" fill=\"#66cc99\" stroke=\"#555555\" stroke-width=\"1.1223689233046323\" opacity=\"0.6\" d=\"M 10.0,-17.32050807568877 L 5.000000000000001,-8.660254037844386 L -4.999999999999998,-8.660254037844382 L -10.0,-17.32050807568877 L -5.000000000000004,-25.980762113533153 L 5.0,-25.980762113533157 L 10.0,-17.32050807568877 z\" /><path fill-rule=\"evenodd\" fill=\"#66cc99\" stroke=\"#555555\" stroke-width=\"1.1223689233046323\" opacity=\"0.6\" d=\"M 25.0,8.660254037844386 L 20.0,17.32050807568877 L 10.000000000000002,17.320508075688775 L 5.0,8.660254037844387 L 9.999999999999996,1.7763568394002505e-15 L 20.0,0.0 L 25.0,8.660254037844386 z\" /><path fill-rule=\"evenodd\" fill=\"#66cc99\" stroke=\"#555555\" stroke-width=\"1.1223689233046323\" opacity=\"0.6\" d=\"M 25.0,-8.660254037844386 L 20.0,0.0 L 10.000000000000002,3.552713678800501e-15 L 5.0,-8.660254037844384 L 9.999999999999996,-17.32050807568877 L 20.0,-17.32050807568877 L 25.0,-8.660254037844386 z\" /><path fill-rule=\"evenodd\" fill=\"#66cc99\" stroke=\"#555555\" stroke-width=\"1.1223689233046323\" opacity=\"0.6\" d=\"M 10.0,17.32050807568877 L 5.000000000000001,25.980762113533157 L -4.999999999999998,25.98076211353316 L -10.0,17.32050807568877 L -5.000000000000004,8.660254037844387 L 5.0,8.660254037844386 L 10.0,17.32050807568877 z\" /><path fill-rule=\"evenodd\" fill=\"#66cc99\" stroke=\"#555555\" stroke-width=\"1.1223689233046323\" opacity=\"0.6\" d=\"M -5.0,8.660254037844386 L -10.0,17.32050807568877 L -20.0,17.320508075688775 L -25.0,8.660254037844387 L -20.000000000000004,1.7763568394002505e-15 L -10.0,0.0 L -5.0,8.660254037844386 z\" /><path fill-rule=\"evenodd\" fill=\"#66cc99\" stroke=\"#555555\" stroke-width=\"1.1223689233046323\" opacity=\"0.6\" d=\"M -5.0,-8.660254037844386 L -10.0,0.0 L -20.0,3.552713678800501e-15 L -25.0,-8.660254037844384 L -20.000000000000004,-17.32050807568877 L -10.0,-17.32050807568877 L -5.0,-8.660254037844386 z\" /><circle cx=\"0.0\" cy=\"0.0\" r=\"1.6835533849569484\" stroke=\"#555555\" stroke-width=\"0.5611844616523162\" fill=\"#66cc99\" opacity=\"0.6\" /></g></g></svg>"
      ],
      "text/plain": [
       "<shapely.geometry.collection.GeometryCollection at 0x112aef518>"
      ]
     },
     "execution_count": 24,
     "metadata": {},
     "output_type": "execute_result"
    }
   ],
   "source": [
    "GeometryCollection(coverage)"
   ]
  },
  {
   "cell_type": "code",
   "execution_count": null,
   "metadata": {},
   "outputs": [],
   "source": []
  }
 ],
 "metadata": {
  "kernelspec": {
   "display_name": "Python 3",
   "language": "python",
   "name": "python3"
  },
  "language_info": {
   "codemirror_mode": {
    "name": "ipython",
    "version": 3
   },
   "file_extension": ".py",
   "mimetype": "text/x-python",
   "name": "python",
   "nbconvert_exporter": "python",
   "pygments_lexer": "ipython3",
   "version": "3.6.6"
  }
 },
 "nbformat": 4,
 "nbformat_minor": 2
}
